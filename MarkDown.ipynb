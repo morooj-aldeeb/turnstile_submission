{
 "cells": [
  {
   "cell_type": "markdown",
   "id": "abb89884",
   "metadata": {},
   "source": [
    "## Turnstile Data Analysis\n",
    "\n",
    "# Introduction\n",
    "\n",
    "We have downloaded weather data set from KAGGLE website and we joined the weather data for the same period taken from the turnstile data by date column. We combined two additional columns from the weather data set (Weather type and Severity) into the turnstile columns. \n",
    "\n",
    "# Research Question\n",
    "\n",
    "Does the daily weather affect the train transportation?\n",
    "\n",
    "# Approach\n",
    "\n",
    "We investigated whether the weather affects the number of people utilizing railways for daily transportation. For this, we grouped data by the “Weather Type” against the counts of ENTRIES \n",
    "with respect to the weather type.\n",
    "\n",
    "![image](weather.effects.entries.png)\n",
    "\n",
    "The Top 5 busiest Train Stations by Average of Entries\n",
    "===========================================\n",
    "\n",
    "![image](busiest.stations.pie.png)\n",
    "\n",
    "As can be seen from the PIE Chart, 104 ST is the busiest station by the average ENTRIES in the first fourth months of 2018 followed by 1 AV. \n",
    "\n",
    "Moreover, We have constructed the daily entries for all stations, sorted them in descending order and picked the top 5 stations by daily entries, shown below.\n",
    "\n",
    "![image](daily.entries.stations.png)\n",
    "\n",
    "Furthermore, To investigate the distribution of ENTRIES pattern(s) per Train station, We constructed the boxplot per station(s) which clearly shows different distribution(s) depending upon the given station. this difference might be attributed to the location of the train station in NY\n",
    "\n",
    "![image](boxplot.stations.png)\n",
    "\n",
    "\n",
    "Moreover, we have constructed violin plot for the same data in order to visualize the distribution of ENTRIES in clearer way.\n",
    "\n",
    "![image](violinplot.stations.png)\n",
    "\n",
    "### Correlation between ENTRIES and EXITS\n",
    "\n",
    "Logically, there should be relationship or correlation between Entries and Exits in the data since who goes in should goes out from the train station. We investigated that correlation statistically in the data by plotting a scatter plot and superimposing the pearson correlation coefficients on the data points. There is approximately 80% positive relationship between ENTRIES and EXITS which aligns very well with the logic.\n",
    "\n",
    "![image](correlation.png)\n",
    "\n",
    "Joined Weather Data with Turnstile by DATE\n",
    "===================================\n",
    "\n",
    "![image](table.png)\n",
    "\n",
    "\n",
    "\n"
   ]
  }
 ],
 "metadata": {
  "kernelspec": {
   "display_name": "Python 3",
   "language": "python",
   "name": "python3"
  },
  "language_info": {
   "codemirror_mode": {
    "name": "ipython",
    "version": 3
   },
   "file_extension": ".py",
   "mimetype": "text/x-python",
   "name": "python",
   "nbconvert_exporter": "python",
   "pygments_lexer": "ipython3",
   "version": "3.8.8"
  }
 },
 "nbformat": 4,
 "nbformat_minor": 5
}
